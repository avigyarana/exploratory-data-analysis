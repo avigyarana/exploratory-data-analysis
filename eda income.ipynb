{
 "cells": [
  {
   "cell_type": "code",
   "execution_count": 1,
   "id": "eb258324",
   "metadata": {},
   "outputs": [],
   "source": [
    "import numpy as np\n",
    "import pandas as pd\n",
    "import seaborn as sns\n",
    "import matplotlib.pyplot as plt\n",
    "import warnings\n",
    "\n",
    "warnings.filterwarnings(\"ignore\")\n",
    "\n",
    "from scipy.stats import ttest_ind, ttest_rel\n",
    "\n",
    "from scipy import stats"
   ]
  },
  {
   "cell_type": "code",
   "execution_count": 2,
   "id": "061a8d6a",
   "metadata": {},
   "outputs": [
    {
     "data": {
      "text/html": [
       "<div>\n",
       "<style scoped>\n",
       "    .dataframe tbody tr th:only-of-type {\n",
       "        vertical-align: middle;\n",
       "    }\n",
       "\n",
       "    .dataframe tbody tr th {\n",
       "        vertical-align: top;\n",
       "    }\n",
       "\n",
       "    .dataframe thead th {\n",
       "        text-align: right;\n",
       "    }\n",
       "</style>\n",
       "<table border=\"1\" class=\"dataframe\">\n",
       "  <thead>\n",
       "    <tr style=\"text-align: right;\">\n",
       "      <th></th>\n",
       "      <th>age</th>\n",
       "      <th>workclass</th>\n",
       "      <th>education</th>\n",
       "      <th>educational-num</th>\n",
       "      <th>marital-status</th>\n",
       "      <th>occupation</th>\n",
       "      <th>relationship</th>\n",
       "      <th>race</th>\n",
       "      <th>gender</th>\n",
       "      <th>capital-gain</th>\n",
       "      <th>capital-loss</th>\n",
       "      <th>hours-per-week</th>\n",
       "      <th>native-country</th>\n",
       "      <th>income</th>\n",
       "    </tr>\n",
       "  </thead>\n",
       "  <tbody>\n",
       "    <tr>\n",
       "      <th>0</th>\n",
       "      <td>25</td>\n",
       "      <td>Private</td>\n",
       "      <td>11th</td>\n",
       "      <td>7</td>\n",
       "      <td>Never-married</td>\n",
       "      <td>Machine-op-inspct</td>\n",
       "      <td>Own-child</td>\n",
       "      <td>Black</td>\n",
       "      <td>Male</td>\n",
       "      <td>0</td>\n",
       "      <td>0</td>\n",
       "      <td>40</td>\n",
       "      <td>United-States</td>\n",
       "      <td>&lt;=50K</td>\n",
       "    </tr>\n",
       "    <tr>\n",
       "      <th>1</th>\n",
       "      <td>38</td>\n",
       "      <td>Private</td>\n",
       "      <td>HS-grad</td>\n",
       "      <td>9</td>\n",
       "      <td>Married-civ-spouse</td>\n",
       "      <td>Farming-fishing</td>\n",
       "      <td>Husband</td>\n",
       "      <td>White</td>\n",
       "      <td>Male</td>\n",
       "      <td>0</td>\n",
       "      <td>0</td>\n",
       "      <td>50</td>\n",
       "      <td>United-States</td>\n",
       "      <td>&lt;=50K</td>\n",
       "    </tr>\n",
       "    <tr>\n",
       "      <th>2</th>\n",
       "      <td>28</td>\n",
       "      <td>Local-gov</td>\n",
       "      <td>Assoc-acdm</td>\n",
       "      <td>12</td>\n",
       "      <td>Married-civ-spouse</td>\n",
       "      <td>Protective-serv</td>\n",
       "      <td>Husband</td>\n",
       "      <td>White</td>\n",
       "      <td>Male</td>\n",
       "      <td>0</td>\n",
       "      <td>0</td>\n",
       "      <td>40</td>\n",
       "      <td>United-States</td>\n",
       "      <td>&gt;50K</td>\n",
       "    </tr>\n",
       "    <tr>\n",
       "      <th>3</th>\n",
       "      <td>44</td>\n",
       "      <td>Private</td>\n",
       "      <td>Some-college</td>\n",
       "      <td>10</td>\n",
       "      <td>Married-civ-spouse</td>\n",
       "      <td>Machine-op-inspct</td>\n",
       "      <td>Husband</td>\n",
       "      <td>Black</td>\n",
       "      <td>Male</td>\n",
       "      <td>7688</td>\n",
       "      <td>0</td>\n",
       "      <td>40</td>\n",
       "      <td>United-States</td>\n",
       "      <td>&gt;50K</td>\n",
       "    </tr>\n",
       "    <tr>\n",
       "      <th>4</th>\n",
       "      <td>18</td>\n",
       "      <td>?</td>\n",
       "      <td>Some-college</td>\n",
       "      <td>10</td>\n",
       "      <td>Never-married</td>\n",
       "      <td>?</td>\n",
       "      <td>Own-child</td>\n",
       "      <td>White</td>\n",
       "      <td>Female</td>\n",
       "      <td>0</td>\n",
       "      <td>0</td>\n",
       "      <td>30</td>\n",
       "      <td>United-States</td>\n",
       "      <td>&lt;=50K</td>\n",
       "    </tr>\n",
       "  </tbody>\n",
       "</table>\n",
       "</div>"
      ],
      "text/plain": [
       "   age  workclass     education  educational-num      marital-status  \\\n",
       "0   25    Private          11th                7       Never-married   \n",
       "1   38    Private       HS-grad                9  Married-civ-spouse   \n",
       "2   28  Local-gov    Assoc-acdm               12  Married-civ-spouse   \n",
       "3   44    Private  Some-college               10  Married-civ-spouse   \n",
       "4   18          ?  Some-college               10       Never-married   \n",
       "\n",
       "          occupation relationship   race  gender  capital-gain  capital-loss  \\\n",
       "0  Machine-op-inspct    Own-child  Black    Male             0             0   \n",
       "1    Farming-fishing      Husband  White    Male             0             0   \n",
       "2    Protective-serv      Husband  White    Male             0             0   \n",
       "3  Machine-op-inspct      Husband  Black    Male          7688             0   \n",
       "4                  ?    Own-child  White  Female             0             0   \n",
       "\n",
       "   hours-per-week native-country income  \n",
       "0              40  United-States  <=50K  \n",
       "1              50  United-States  <=50K  \n",
       "2              40  United-States   >50K  \n",
       "3              40  United-States   >50K  \n",
       "4              30  United-States  <=50K  "
      ]
     },
     "execution_count": 2,
     "metadata": {},
     "output_type": "execute_result"
    }
   ],
   "source": [
    "data = pd.read_csv(\"adult.csv\")\n",
    "data.head()\n",
    "\n",
    "#exploratory data analysis"
   ]
  },
  {
   "cell_type": "code",
   "execution_count": null,
   "id": "840c6783",
   "metadata": {},
   "outputs": [],
   "source": []
  },
  {
   "cell_type": "code",
   "execution_count": null,
   "id": "b2e8c639",
   "metadata": {},
   "outputs": [],
   "source": []
  },
  {
   "cell_type": "code",
   "execution_count": 3,
   "id": "2919cd15",
   "metadata": {},
   "outputs": [],
   "source": [
    "data_num = data.copy()"
   ]
  },
  {
   "cell_type": "code",
   "execution_count": 4,
   "id": "3b2c1be6",
   "metadata": {},
   "outputs": [
    {
     "data": {
      "text/html": [
       "<div>\n",
       "<style scoped>\n",
       "    .dataframe tbody tr th:only-of-type {\n",
       "        vertical-align: middle;\n",
       "    }\n",
       "\n",
       "    .dataframe tbody tr th {\n",
       "        vertical-align: top;\n",
       "    }\n",
       "\n",
       "    .dataframe thead th {\n",
       "        text-align: right;\n",
       "    }\n",
       "</style>\n",
       "<table border=\"1\" class=\"dataframe\">\n",
       "  <thead>\n",
       "    <tr style=\"text-align: right;\">\n",
       "      <th></th>\n",
       "      <th>age</th>\n",
       "      <th>educational-num</th>\n",
       "      <th>capital-gain</th>\n",
       "      <th>capital-loss</th>\n",
       "      <th>hours-per-week</th>\n",
       "    </tr>\n",
       "  </thead>\n",
       "  <tbody>\n",
       "    <tr>\n",
       "      <th>count</th>\n",
       "      <td>48842.000000</td>\n",
       "      <td>48842.000000</td>\n",
       "      <td>48842.000000</td>\n",
       "      <td>48842.000000</td>\n",
       "      <td>48842.000000</td>\n",
       "    </tr>\n",
       "    <tr>\n",
       "      <th>mean</th>\n",
       "      <td>38.643585</td>\n",
       "      <td>10.078089</td>\n",
       "      <td>1079.067626</td>\n",
       "      <td>87.502314</td>\n",
       "      <td>40.422382</td>\n",
       "    </tr>\n",
       "    <tr>\n",
       "      <th>std</th>\n",
       "      <td>13.710510</td>\n",
       "      <td>2.570973</td>\n",
       "      <td>7452.019058</td>\n",
       "      <td>403.004552</td>\n",
       "      <td>12.391444</td>\n",
       "    </tr>\n",
       "    <tr>\n",
       "      <th>min</th>\n",
       "      <td>17.000000</td>\n",
       "      <td>1.000000</td>\n",
       "      <td>0.000000</td>\n",
       "      <td>0.000000</td>\n",
       "      <td>1.000000</td>\n",
       "    </tr>\n",
       "    <tr>\n",
       "      <th>25%</th>\n",
       "      <td>28.000000</td>\n",
       "      <td>9.000000</td>\n",
       "      <td>0.000000</td>\n",
       "      <td>0.000000</td>\n",
       "      <td>40.000000</td>\n",
       "    </tr>\n",
       "    <tr>\n",
       "      <th>50%</th>\n",
       "      <td>37.000000</td>\n",
       "      <td>10.000000</td>\n",
       "      <td>0.000000</td>\n",
       "      <td>0.000000</td>\n",
       "      <td>40.000000</td>\n",
       "    </tr>\n",
       "    <tr>\n",
       "      <th>75%</th>\n",
       "      <td>48.000000</td>\n",
       "      <td>12.000000</td>\n",
       "      <td>0.000000</td>\n",
       "      <td>0.000000</td>\n",
       "      <td>45.000000</td>\n",
       "    </tr>\n",
       "    <tr>\n",
       "      <th>max</th>\n",
       "      <td>90.000000</td>\n",
       "      <td>16.000000</td>\n",
       "      <td>99999.000000</td>\n",
       "      <td>4356.000000</td>\n",
       "      <td>99.000000</td>\n",
       "    </tr>\n",
       "  </tbody>\n",
       "</table>\n",
       "</div>"
      ],
      "text/plain": [
       "                age  educational-num  capital-gain  capital-loss  \\\n",
       "count  48842.000000     48842.000000  48842.000000  48842.000000   \n",
       "mean      38.643585        10.078089   1079.067626     87.502314   \n",
       "std       13.710510         2.570973   7452.019058    403.004552   \n",
       "min       17.000000         1.000000      0.000000      0.000000   \n",
       "25%       28.000000         9.000000      0.000000      0.000000   \n",
       "50%       37.000000        10.000000      0.000000      0.000000   \n",
       "75%       48.000000        12.000000      0.000000      0.000000   \n",
       "max       90.000000        16.000000  99999.000000   4356.000000   \n",
       "\n",
       "       hours-per-week  \n",
       "count    48842.000000  \n",
       "mean        40.422382  \n",
       "std         12.391444  \n",
       "min          1.000000  \n",
       "25%         40.000000  \n",
       "50%         40.000000  \n",
       "75%         45.000000  \n",
       "max         99.000000  "
      ]
     },
     "execution_count": 4,
     "metadata": {},
     "output_type": "execute_result"
    }
   ],
   "source": [
    "data.describe()"
   ]
  },
  {
   "cell_type": "code",
   "execution_count": 5,
   "id": "1f273fff",
   "metadata": {},
   "outputs": [
    {
     "data": {
      "text/html": [
       "<div>\n",
       "<style scoped>\n",
       "    .dataframe tbody tr th:only-of-type {\n",
       "        vertical-align: middle;\n",
       "    }\n",
       "\n",
       "    .dataframe tbody tr th {\n",
       "        vertical-align: top;\n",
       "    }\n",
       "\n",
       "    .dataframe thead th {\n",
       "        text-align: right;\n",
       "    }\n",
       "</style>\n",
       "<table border=\"1\" class=\"dataframe\">\n",
       "  <thead>\n",
       "    <tr style=\"text-align: right;\">\n",
       "      <th></th>\n",
       "      <th>workclass</th>\n",
       "      <th>education</th>\n",
       "      <th>marital-status</th>\n",
       "      <th>occupation</th>\n",
       "      <th>relationship</th>\n",
       "      <th>race</th>\n",
       "      <th>gender</th>\n",
       "      <th>native-country</th>\n",
       "      <th>income</th>\n",
       "    </tr>\n",
       "  </thead>\n",
       "  <tbody>\n",
       "    <tr>\n",
       "      <th>count</th>\n",
       "      <td>48842</td>\n",
       "      <td>48842</td>\n",
       "      <td>48842</td>\n",
       "      <td>48842</td>\n",
       "      <td>48842</td>\n",
       "      <td>48842</td>\n",
       "      <td>48842</td>\n",
       "      <td>48842</td>\n",
       "      <td>48842</td>\n",
       "    </tr>\n",
       "    <tr>\n",
       "      <th>unique</th>\n",
       "      <td>9</td>\n",
       "      <td>16</td>\n",
       "      <td>7</td>\n",
       "      <td>15</td>\n",
       "      <td>6</td>\n",
       "      <td>5</td>\n",
       "      <td>2</td>\n",
       "      <td>42</td>\n",
       "      <td>2</td>\n",
       "    </tr>\n",
       "    <tr>\n",
       "      <th>top</th>\n",
       "      <td>Private</td>\n",
       "      <td>HS-grad</td>\n",
       "      <td>Married-civ-spouse</td>\n",
       "      <td>Prof-specialty</td>\n",
       "      <td>Husband</td>\n",
       "      <td>White</td>\n",
       "      <td>Male</td>\n",
       "      <td>United-States</td>\n",
       "      <td>&lt;=50K</td>\n",
       "    </tr>\n",
       "    <tr>\n",
       "      <th>freq</th>\n",
       "      <td>33906</td>\n",
       "      <td>15784</td>\n",
       "      <td>22379</td>\n",
       "      <td>6172</td>\n",
       "      <td>19716</td>\n",
       "      <td>41762</td>\n",
       "      <td>32650</td>\n",
       "      <td>43832</td>\n",
       "      <td>37155</td>\n",
       "    </tr>\n",
       "  </tbody>\n",
       "</table>\n",
       "</div>"
      ],
      "text/plain": [
       "       workclass education      marital-status      occupation relationship  \\\n",
       "count      48842     48842               48842           48842        48842   \n",
       "unique         9        16                   7              15            6   \n",
       "top      Private   HS-grad  Married-civ-spouse  Prof-specialty      Husband   \n",
       "freq       33906     15784               22379            6172        19716   \n",
       "\n",
       "         race gender native-country income  \n",
       "count   48842  48842          48842  48842  \n",
       "unique      5      2             42      2  \n",
       "top     White   Male  United-States  <=50K  \n",
       "freq    41762  32650          43832  37155  "
      ]
     },
     "execution_count": 5,
     "metadata": {},
     "output_type": "execute_result"
    }
   ],
   "source": [
    "data.describe(include=[\"O\"])"
   ]
  },
  {
   "cell_type": "code",
   "execution_count": 6,
   "id": "4bde8e4f",
   "metadata": {},
   "outputs": [
    {
     "data": {
      "text/plain": [
       "age                0\n",
       "workclass          0\n",
       "education          0\n",
       "educational-num    0\n",
       "marital-status     0\n",
       "occupation         0\n",
       "relationship       0\n",
       "race               0\n",
       "gender             0\n",
       "capital-gain       0\n",
       "capital-loss       0\n",
       "hours-per-week     0\n",
       "native-country     0\n",
       "income             0\n",
       "dtype: int64"
      ]
     },
     "execution_count": 6,
     "metadata": {},
     "output_type": "execute_result"
    }
   ],
   "source": [
    "data.isnull().sum()"
   ]
  },
  {
   "cell_type": "code",
   "execution_count": 7,
   "id": "1ab8f16d",
   "metadata": {},
   "outputs": [],
   "source": [
    "attrib, counts = np.unique(data['workclass'], return_counts = True)\n",
    "most_freq_attrib = attrib[np.argmax(counts, axis = 0)]\n",
    "data['workclass'][data['workclass']== '?'] = most_freq_attrib\n",
    "\n",
    "\n",
    "attrib, counts = np.unique(data['occupation'], return_counts = True)\n",
    "most_freq_attrib = attrib[np.argmax(counts, axis = 0)]\n",
    "data['occupation'][data['occupation']== '?'] = most_freq_attrib\n",
    "\n",
    "\n",
    "attrib, counts = np.unique(data['native-country'], return_counts = True)\n",
    "most_freq_attrib = attrib[np.argmax(counts, axis = 0)]\n",
    "\n",
    "data['native-country'][data['native-country']== '?'] = most_freq_attrib"
   ]
  },
  {
   "cell_type": "code",
   "execution_count": 8,
   "id": "5403999a",
   "metadata": {},
   "outputs": [
    {
     "data": {
      "text/plain": [
       "array(['Private', 'Local-gov', 'Self-emp-not-inc', 'Federal-gov',\n",
       "       'State-gov', 'Self-emp-inc', 'Without-pay', 'Never-worked'],\n",
       "      dtype=object)"
      ]
     },
     "execution_count": 8,
     "metadata": {},
     "output_type": "execute_result"
    }
   ],
   "source": [
    "data.workclass.unique()"
   ]
  },
  {
   "cell_type": "code",
   "execution_count": 9,
   "id": "0082ad9a",
   "metadata": {},
   "outputs": [
    {
     "data": {
      "text/plain": [
       "Series([], Name: workclass, dtype: object)"
      ]
     },
     "execution_count": 9,
     "metadata": {},
     "output_type": "execute_result"
    }
   ],
   "source": [
    "data['workclass'][data['workclass']=='?']"
   ]
  },
  {
   "cell_type": "code",
   "execution_count": 10,
   "id": "226ca0bb",
   "metadata": {},
   "outputs": [
    {
     "data": {
      "text/html": [
       "<div>\n",
       "<style scoped>\n",
       "    .dataframe tbody tr th:only-of-type {\n",
       "        vertical-align: middle;\n",
       "    }\n",
       "\n",
       "    .dataframe tbody tr th {\n",
       "        vertical-align: top;\n",
       "    }\n",
       "\n",
       "    .dataframe thead th {\n",
       "        text-align: right;\n",
       "    }\n",
       "</style>\n",
       "<table border=\"1\" class=\"dataframe\">\n",
       "  <thead>\n",
       "    <tr style=\"text-align: right;\">\n",
       "      <th></th>\n",
       "      <th>age</th>\n",
       "      <th>workclass</th>\n",
       "      <th>education</th>\n",
       "      <th>educational-num</th>\n",
       "      <th>marital-status</th>\n",
       "      <th>occupation</th>\n",
       "      <th>relationship</th>\n",
       "      <th>race</th>\n",
       "      <th>gender</th>\n",
       "      <th>capital-gain</th>\n",
       "      <th>capital-loss</th>\n",
       "      <th>hours-per-week</th>\n",
       "      <th>native-country</th>\n",
       "      <th>income</th>\n",
       "    </tr>\n",
       "  </thead>\n",
       "  <tbody>\n",
       "    <tr>\n",
       "      <th>0</th>\n",
       "      <td>25</td>\n",
       "      <td>Private</td>\n",
       "      <td>11th</td>\n",
       "      <td>7</td>\n",
       "      <td>Never-married</td>\n",
       "      <td>Machine-op-inspct</td>\n",
       "      <td>Own-child</td>\n",
       "      <td>Black</td>\n",
       "      <td>Male</td>\n",
       "      <td>0</td>\n",
       "      <td>0</td>\n",
       "      <td>40</td>\n",
       "      <td>United-States</td>\n",
       "      <td>&lt;=50K</td>\n",
       "    </tr>\n",
       "    <tr>\n",
       "      <th>1</th>\n",
       "      <td>38</td>\n",
       "      <td>Private</td>\n",
       "      <td>HS-grad</td>\n",
       "      <td>9</td>\n",
       "      <td>Married-civ-spouse</td>\n",
       "      <td>Farming-fishing</td>\n",
       "      <td>Husband</td>\n",
       "      <td>White</td>\n",
       "      <td>Male</td>\n",
       "      <td>0</td>\n",
       "      <td>0</td>\n",
       "      <td>50</td>\n",
       "      <td>United-States</td>\n",
       "      <td>&lt;=50K</td>\n",
       "    </tr>\n",
       "    <tr>\n",
       "      <th>2</th>\n",
       "      <td>28</td>\n",
       "      <td>Local-gov</td>\n",
       "      <td>Assoc-acdm</td>\n",
       "      <td>12</td>\n",
       "      <td>Married-civ-spouse</td>\n",
       "      <td>Protective-serv</td>\n",
       "      <td>Husband</td>\n",
       "      <td>White</td>\n",
       "      <td>Male</td>\n",
       "      <td>0</td>\n",
       "      <td>0</td>\n",
       "      <td>40</td>\n",
       "      <td>United-States</td>\n",
       "      <td>&gt;50K</td>\n",
       "    </tr>\n",
       "    <tr>\n",
       "      <th>3</th>\n",
       "      <td>44</td>\n",
       "      <td>Private</td>\n",
       "      <td>Some-college</td>\n",
       "      <td>10</td>\n",
       "      <td>Married-civ-spouse</td>\n",
       "      <td>Machine-op-inspct</td>\n",
       "      <td>Husband</td>\n",
       "      <td>Black</td>\n",
       "      <td>Male</td>\n",
       "      <td>7688</td>\n",
       "      <td>0</td>\n",
       "      <td>40</td>\n",
       "      <td>United-States</td>\n",
       "      <td>&gt;50K</td>\n",
       "    </tr>\n",
       "    <tr>\n",
       "      <th>4</th>\n",
       "      <td>18</td>\n",
       "      <td>Private</td>\n",
       "      <td>Some-college</td>\n",
       "      <td>10</td>\n",
       "      <td>Never-married</td>\n",
       "      <td>Prof-specialty</td>\n",
       "      <td>Own-child</td>\n",
       "      <td>White</td>\n",
       "      <td>Female</td>\n",
       "      <td>0</td>\n",
       "      <td>0</td>\n",
       "      <td>30</td>\n",
       "      <td>United-States</td>\n",
       "      <td>&lt;=50K</td>\n",
       "    </tr>\n",
       "    <tr>\n",
       "      <th>5</th>\n",
       "      <td>34</td>\n",
       "      <td>Private</td>\n",
       "      <td>10th</td>\n",
       "      <td>6</td>\n",
       "      <td>Never-married</td>\n",
       "      <td>Other-service</td>\n",
       "      <td>Not-in-family</td>\n",
       "      <td>White</td>\n",
       "      <td>Male</td>\n",
       "      <td>0</td>\n",
       "      <td>0</td>\n",
       "      <td>30</td>\n",
       "      <td>United-States</td>\n",
       "      <td>&lt;=50K</td>\n",
       "    </tr>\n",
       "    <tr>\n",
       "      <th>6</th>\n",
       "      <td>29</td>\n",
       "      <td>Private</td>\n",
       "      <td>HS-grad</td>\n",
       "      <td>9</td>\n",
       "      <td>Never-married</td>\n",
       "      <td>Prof-specialty</td>\n",
       "      <td>Unmarried</td>\n",
       "      <td>Black</td>\n",
       "      <td>Male</td>\n",
       "      <td>0</td>\n",
       "      <td>0</td>\n",
       "      <td>40</td>\n",
       "      <td>United-States</td>\n",
       "      <td>&lt;=50K</td>\n",
       "    </tr>\n",
       "    <tr>\n",
       "      <th>7</th>\n",
       "      <td>63</td>\n",
       "      <td>Self-emp-not-inc</td>\n",
       "      <td>Prof-school</td>\n",
       "      <td>15</td>\n",
       "      <td>Married-civ-spouse</td>\n",
       "      <td>Prof-specialty</td>\n",
       "      <td>Husband</td>\n",
       "      <td>White</td>\n",
       "      <td>Male</td>\n",
       "      <td>3103</td>\n",
       "      <td>0</td>\n",
       "      <td>32</td>\n",
       "      <td>United-States</td>\n",
       "      <td>&gt;50K</td>\n",
       "    </tr>\n",
       "    <tr>\n",
       "      <th>8</th>\n",
       "      <td>24</td>\n",
       "      <td>Private</td>\n",
       "      <td>Some-college</td>\n",
       "      <td>10</td>\n",
       "      <td>Never-married</td>\n",
       "      <td>Other-service</td>\n",
       "      <td>Unmarried</td>\n",
       "      <td>White</td>\n",
       "      <td>Female</td>\n",
       "      <td>0</td>\n",
       "      <td>0</td>\n",
       "      <td>40</td>\n",
       "      <td>United-States</td>\n",
       "      <td>&lt;=50K</td>\n",
       "    </tr>\n",
       "    <tr>\n",
       "      <th>9</th>\n",
       "      <td>55</td>\n",
       "      <td>Private</td>\n",
       "      <td>7th-8th</td>\n",
       "      <td>4</td>\n",
       "      <td>Married-civ-spouse</td>\n",
       "      <td>Craft-repair</td>\n",
       "      <td>Husband</td>\n",
       "      <td>White</td>\n",
       "      <td>Male</td>\n",
       "      <td>0</td>\n",
       "      <td>0</td>\n",
       "      <td>10</td>\n",
       "      <td>United-States</td>\n",
       "      <td>&lt;=50K</td>\n",
       "    </tr>\n",
       "  </tbody>\n",
       "</table>\n",
       "</div>"
      ],
      "text/plain": [
       "   age         workclass     education  educational-num      marital-status  \\\n",
       "0   25           Private          11th                7       Never-married   \n",
       "1   38           Private       HS-grad                9  Married-civ-spouse   \n",
       "2   28         Local-gov    Assoc-acdm               12  Married-civ-spouse   \n",
       "3   44           Private  Some-college               10  Married-civ-spouse   \n",
       "4   18           Private  Some-college               10       Never-married   \n",
       "5   34           Private          10th                6       Never-married   \n",
       "6   29           Private       HS-grad                9       Never-married   \n",
       "7   63  Self-emp-not-inc   Prof-school               15  Married-civ-spouse   \n",
       "8   24           Private  Some-college               10       Never-married   \n",
       "9   55           Private       7th-8th                4  Married-civ-spouse   \n",
       "\n",
       "          occupation   relationship   race  gender  capital-gain  \\\n",
       "0  Machine-op-inspct      Own-child  Black    Male             0   \n",
       "1    Farming-fishing        Husband  White    Male             0   \n",
       "2    Protective-serv        Husband  White    Male             0   \n",
       "3  Machine-op-inspct        Husband  Black    Male          7688   \n",
       "4     Prof-specialty      Own-child  White  Female             0   \n",
       "5      Other-service  Not-in-family  White    Male             0   \n",
       "6     Prof-specialty      Unmarried  Black    Male             0   \n",
       "7     Prof-specialty        Husband  White    Male          3103   \n",
       "8      Other-service      Unmarried  White  Female             0   \n",
       "9       Craft-repair        Husband  White    Male             0   \n",
       "\n",
       "   capital-loss  hours-per-week native-country income  \n",
       "0             0              40  United-States  <=50K  \n",
       "1             0              50  United-States  <=50K  \n",
       "2             0              40  United-States   >50K  \n",
       "3             0              40  United-States   >50K  \n",
       "4             0              30  United-States  <=50K  \n",
       "5             0              30  United-States  <=50K  \n",
       "6             0              40  United-States  <=50K  \n",
       "7             0              32  United-States   >50K  \n",
       "8             0              40  United-States  <=50K  \n",
       "9             0              10  United-States  <=50K  "
      ]
     },
     "execution_count": 10,
     "metadata": {},
     "output_type": "execute_result"
    }
   ],
   "source": [
    "data.head(10)"
   ]
  },
  {
   "cell_type": "code",
   "execution_count": 11,
   "id": "dd7ebe30",
   "metadata": {},
   "outputs": [
    {
     "data": {
      "image/png": "[encoded data removed]",
      "text/plain": [
       "<Figure size 400x400 with 1 Axes>"
      ]
     },
     "metadata": {},
     "output_type": "display_data"
    }
   ],
   "source": [
    "data['age'].hist(figsize=[4,4])\n",
    "plt.xlabel ('Age')\n",
    "plt.ylabel('No of people')\n",
    "plt.show()"
   ]
  },
  {
   "cell_type": "code",
   "execution_count": 12,
   "id": "28091b96",
   "metadata": {},
   "outputs": [
    {
     "ename": "TypeError",
     "evalue": "'>' not supported between instances of 'str' and 'int'",
     "output_type": "error",
     "traceback": [
      "\u001b[0;31m---------------------------------------------------------------------------\u001b[0m",
      "\u001b[0;31mTypeError\u001b[0m                                 Traceback (most recent call last)",
      "Input \u001b[0;32mIn [12]\u001b[0m, in \u001b[0;36m<cell line: 1>\u001b[0;34m()\u001b[0m\n\u001b[1;32m      1\u001b[0m data[data(\n\u001b[0;32m----> 2\u001b[0m     \u001b[38;5;124;43m'\u001b[39;49m\u001b[38;5;124;43mage\u001b[39;49m\u001b[38;5;124;43m'\u001b[39;49m\u001b[38;5;241;43m>\u001b[39;49m\u001b[38;5;241;43m70\u001b[39;49m\n\u001b[1;32m      3\u001b[0m )]\u001b[38;5;241m.\u001b[39mshape\n",
      "\u001b[0;31mTypeError\u001b[0m: '>' not supported between instances of 'str' and 'int'"
     ]
    }
   ],
   "source": [
    "data[data(\n",
    "    'age'>70\n",
    ")].shape"
   ]
  },
  {
   "cell_type": "code",
   "execution_count": null,
   "id": "48a428e2",
   "metadata": {},
   "outputs": [],
   "source": [
    "data['hours-per-week'].hist(figsize=[4,4])\n",
    "\n",
    "plt.show()"
   ]
  },
  {
   "cell_type": "code",
   "execution_count": null,
   "id": "9b32642a",
   "metadata": {
    "scrolled": true
   },
   "outputs": [],
   "source": [
    "data['capital-gain'].hist(figsize=[4,4])\n",
    "plt.show()"
   ]
  },
  {
   "cell_type": "code",
   "execution_count": null,
   "id": "68bca53e",
   "metadata": {},
   "outputs": [],
   "source": [
    "data['capital-loss'].hist(figsize=[4,4])\n",
    "plt.show() "
   ]
  },
  {
   "cell_type": "code",
   "execution_count": null,
   "id": "3f944b70",
   "metadata": {},
   "outputs": [],
   "source": [
    "data[data['capital-loss']>0].shape"
   ]
  },
  {
   "cell_type": "code",
   "execution_count": null,
   "id": "d4dbfbcb",
   "metadata": {},
   "outputs": [],
   "source": [
    "sns.relplot(x='capital-gain',y= 'capital-loss', data=data) #seaborn relational plot\n",
    "plt.xlabel('capital-gain')\n",
    "plt.ylabel('capital-loss')\n",
    "plt.show()"
   ]
  },
  {
   "cell_type": "code",
   "execution_count": null,
   "id": "614b65d4",
   "metadata": {
    "scrolled": false
   },
   "outputs": [],
   "source": [
    "#categorical data\n",
    "\n",
    "plt.figure(figsize=[12,8])\n",
    "\n",
    "total = float(len(data['income']))\n",
    "\n",
    "ax = sns.countplot(x='workclass', data=data)\n",
    "\n",
    "for p in ax.patches:\n",
    "    height = p.get_height()\n",
    "    ax.text(p.get_x()+p.get_width()/2,\n",
    "    height+3,\n",
    "    '{:1.2f}'.format((height/total)*100),\n",
    "    ha=\"center\")\n",
    "    \n",
    "plt.show()\n",
    "    \n",
    "    "
   ]
  },
  {
   "cell_type": "code",
   "execution_count": null,
   "id": "b73c09ec",
   "metadata": {},
   "outputs": [],
   "source": [
    "\n",
    "plt.figure(figsize=[20,8])\n",
    "\n",
    "total = float(len(data['education']))\n",
    "\n",
    "ax = sns.countplot(x='education', data=data)\n",
    "\n",
    "for p in ax.patches:\n",
    "    height = p.get_height()\n",
    "    ax.text(p.get_x()+p.get_width()/2,\n",
    "    height+3,\n",
    "    '{:1.2f}'.format((height/total)*100),\n",
    "    ha=\"center\")\n",
    "plt.title('Count plot of education')    \n",
    "plt.show()\n",
    "    \n",
    "    "
   ]
  },
  {
   "cell_type": "code",
   "execution_count": null,
   "id": "dcc2f261",
   "metadata": {},
   "outputs": [],
   "source": [
    "\n",
    "plt.figure(figsize=[12,8])\n",
    "\n",
    "total = float(len(data))\n",
    "\n",
    "ax = sns.countplot(x='marital-status', data=data)\n",
    "\n",
    "for p in ax.patches:\n",
    "    height = p.get_height()\n",
    "    ax.text(p.get_x()+p.get_width()/2,\n",
    "    height+3,\n",
    "    '{:1.2f}'.format((height/total)*100),\n",
    "    ha=\"center\")\n",
    "    \n",
    "plt.show()\n",
    "    \n",
    "    "
   ]
  },
  {
   "cell_type": "code",
   "execution_count": null,
   "id": "ec861629",
   "metadata": {},
   "outputs": [],
   "source": [
    "#categorical data\n",
    "\n",
    "plt.figure(figsize=[25,8])\n",
    "\n",
    "total = float(len(data))\n",
    "\n",
    "ax = sns.countplot(x='occupation', data=data)\n",
    "\n",
    "for p in ax.patches:\n",
    "    height = p.get_height()\n",
    "    ax.text(p.get_x()+p.get_width()/2,\n",
    "    height+3,\n",
    "    '{:1.2f}'.format((height/total)*100),\n",
    "    ha=\"center\")\n",
    "    \n",
    "plt.show()\n",
    "    \n",
    "    "
   ]
  },
  {
   "cell_type": "code",
   "execution_count": null,
   "id": "ea378137",
   "metadata": {},
   "outputs": [],
   "source": [
    "#categorical data\n",
    "\n",
    "plt.figure(figsize=[15,8])\n",
    "\n",
    "total = float(len(data))\n",
    "\n",
    "ax = sns.countplot(x='relationship', data=data)\n",
    "\n",
    "for p in ax.patches:\n",
    "    height = p.get_height()\n",
    "    ax.text(p.get_x()+p.get_width()/2,\n",
    "    height+3,\n",
    "    '{:1.2f}'.format((height/total)*100),\n",
    "    ha=\"center\")\n",
    "    \n",
    "plt.show()"
   ]
  },
  {
   "cell_type": "code",
   "execution_count": null,
   "id": "f0483375",
   "metadata": {},
   "outputs": [],
   "source": [
    "#categorical data\n",
    "\n",
    "plt.figure(figsize=[12,8])\n",
    "\n",
    "total = float(len(data['income']))\n",
    "\n",
    "ax = sns.countplot(x='workclass', data=data)\n",
    "\n",
    "for p in ax.patches:\n",
    "    height = p.get_height()\n",
    "    ax.text(p.get_x()+p.get_width()/2,\n",
    "    height+3,\n",
    "    '{:1.2f}'.format((height/total)*100),\n",
    "    ha=\"center\")\n",
    "    \n",
    "plt.show()\n",
    "    \n",
    "    "
   ]
  },
  {
   "cell_type": "code",
   "execution_count": null,
   "id": "06b6b624",
   "metadata": {},
   "outputs": [],
   "source": [
    "#categorical data\n",
    "\n",
    "plt.figure(figsize=[15,8])\n",
    "\n",
    "total = float(len(data))\n",
    "\n",
    "ax = sns.countplot(x='race', data=data)\n",
    "\n",
    "for p in ax.patches:\n",
    "    height = p.get_height()\n",
    "    ax.text(p.get_x()+p.get_width()/2,\n",
    "    height+3,\n",
    "    '{:1.2f}'.format((height/total)*100),\n",
    "    ha=\"center\")\n",
    "    \n",
    "plt.show()"
   ]
  },
  {
   "cell_type": "code",
   "execution_count": null,
   "id": "ec48b23f",
   "metadata": {},
   "outputs": [],
   "source": [
    "#categorical data\n",
    "\n",
    "plt.figure(figsize=[8,8])\n",
    "\n",
    "total = float(len(data))\n",
    "\n",
    "ax = sns.countplot(x='gender', data=data)\n",
    "\n",
    "for p in ax.patches:\n",
    "    height = p.get_height()\n",
    "    ax.text(p.get_x()+p.get_width()/2,\n",
    "    height+3,\n",
    "    '{:1.2f}'.format((height/total)*100),\n",
    "    ha=\"center\")\n",
    "    \n",
    "plt.show()\n",
    "    \n",
    "    "
   ]
  },
  {
   "cell_type": "code",
   "execution_count": null,
   "id": "fcb8500d",
   "metadata": {},
   "outputs": [],
   "source": [
    "#categorical data\n",
    "\n",
    "plt.figure(figsize=[8,8])\n",
    "\n",
    "total = float(len(data))\n",
    "\n",
    "ax = sns.countplot(x='income', data=data)\n",
    "\n",
    "for p in ax.patches:\n",
    "    height = p.get_height()\n",
    "    ax.text(p.get_x()+p.get_width()/2,\n",
    "    height+3,\n",
    "    '{:1.2f}'.format((height/total)*100),\n",
    "    ha=\"center\")\n",
    "    \n",
    "plt.show()\n",
    "    \n",
    "    "
   ]
  },
  {
   "cell_type": "code",
   "execution_count": null,
   "id": "08b2d2f9",
   "metadata": {},
   "outputs": [],
   "source": [
    "fig = plt.figure(figsize=(10,10))\n",
    "sns.boxplot(x=\"income\",y=\"age\",data=data)\n",
    "plt.show()"
   ]
  },
  {
   "cell_type": "code",
   "execution_count": null,
   "id": "083e7217",
   "metadata": {},
   "outputs": [],
   "source": [
    "data['income']=data['income'].map({'<=50K' : 0 , '>50K' : 1, '<=50K.':0, '>50K.':1})\n",
    "data.head()"
   ]
  },
  {
   "cell_type": "code",
   "execution_count": null,
   "id": "e98bd244",
   "metadata": {},
   "outputs": [],
   "source": [
    "data[['income','age']].groupby(['income'], as_index=False).median().sort_values(by='age',ascending=False)"
   ]
  },
  {
   "cell_type": "code",
   "execution_count": null,
   "id": "4492d4ab",
   "metadata": {},
   "outputs": [],
   "source": [
    "import random\n",
    "\n",
    "datatest = data[(np.abs(stats.zscore(data['age']))<3)]\n",
    "\n",
    "income_1 = datatest[datatest['income']==1]['age']\n",
    "\n",
    "income_0 = datatest[datatest['income']==0]['age']\n",
    "\n",
    "income_0 = income_0.values.tolist()\n",
    "income0 = random.sample(income_0, 100)\n",
    "income_1 = income_1.values.tolist()\n",
    "income1 = random.sample(income_1, 100)"
   ]
  },
  {
   "cell_type": "code",
   "execution_count": null,
   "id": "5f67dcc0",
   "metadata": {},
   "outputs": [],
   "source": [
    "from scipy.stats import ttest_ind\n",
    "\n",
    "ttest,pval = ttest_ind(income_1, income_0, equal_var = False)\n",
    "\n",
    "print(\"ttest\", ttest)\n",
    "print(\"p value\",pval)\n",
    "\n",
    "if pval <0.05:\n",
    "    print(\"we reject null hypothesis hence dependent or have relation\")\n",
    "    \n",
    "else:\n",
    "    print(\"we accept null hypothesis hence independent\")"
   ]
  },
  {
   "cell_type": "code",
   "execution_count": null,
   "id": "979b2cbe",
   "metadata": {
    "scrolled": true
   },
   "outputs": [],
   "source": [
    "fig = plt.figure(figsize = (10,10))\n",
    "sns.boxplot(x=\"income\",y=\"hours-per-week\",data=data)\n",
    "plt.show()"
   ]
  },
  {
   "cell_type": "code",
   "execution_count": null,
   "id": "e5ef3930",
   "metadata": {},
   "outputs": [],
   "source": [
    "data = data[(np.abs(stats.zscore(data[\"hours-per-week\"]))<3]\n",
    "\n",
    "\n",
    "income_1 = data[data['income']==1][\"hours-per-week\"]\n",
    "income_0 = data[data['income']==0][\"hours-per-week\"]\n",
    "             \n",
    "income_0 = income_0.values.tolist()\n",
    "income_0 = random.sample(income_0,1000)\n",
    "income_1 = income_1.valuestolist()\n",
    "income_1 = random.sample(income_1, 1000)\n",
    "             \n",
    "ttest, pval = ttest_ind(income_1, income_0, equal_var = False)\n",
    "             \n",
    "print(\"ttest\",ttest)\n",
    "             \n",
    "print(\"p.value\",pval)\n",
    "             \n",
    "if pval <0.05:\n",
    "             print(\"we reject null hypothesis\")\n",
    "             \n",
    "else:\n",
    "             print(\" we accept null hypothesis\")"
   ]
  },
  {
   "cell_type": "code",
   "execution_count": null,
   "id": "76e7b222",
   "metadata": {},
   "outputs": [],
   "source": [
    "plt.figure(figsize=[10,7])\n",
    "sns.boxplot(x=\"income\",y=\"capital-loss\",data=data)\n",
    "plt.show()"
   ]
  },
  {
   "cell_type": "code",
   "execution_count": null,
   "id": "641143f2",
   "metadata": {},
   "outputs": [],
   "source": [
    "\n",
    "datatest = data[(np.abs(stats.zscore(data['capital-gain']))<3)]\n",
    "\n",
    "income_1 = datatest[datatest['income']==1]['age']\n",
    "\n",
    "income_0 = datatest[datatest['income']==0]['age']\n",
    "\n",
    "income_0 = income_0.values.tolist()\n",
    "income0 = random.sample(income_0, 100)\n",
    "income_1 = income_1.values.tolist()\n",
    "income1 = random.sample(income_1, 100)"
   ]
  },
  {
   "cell_type": "code",
   "execution_count": null,
   "id": "1acb8a86",
   "metadata": {},
   "outputs": [],
   "source": [
    "plt.figure(figsize=(12,10))\n",
    "\n",
    "ax = sns.countplot(x=\"workclass\", hue=\"income\", data=data)"
   ]
  },
  {
   "cell_type": "code",
   "execution_count": null,
   "id": "8f86e9eb",
   "metadata": {},
   "outputs": [],
   "source": [
    "c_t = pd.crosstab(data['workclass'].sample(frac=0.004, replace=True, random_state=1),data['income'].sample(frac=0.004,replace= True, random_state = 1),margins=False)\n",
    "c_t"
   ]
  },
  {
   "cell_type": "code",
   "execution_count": null,
   "id": "c2bcd77e",
   "metadata": {},
   "outputs": [],
   "source": [
    "from scipy.stats import chi2_contingency\n",
    "from scipy.stats import chi2\n",
    "\n",
    "stat, p, dof, expected = chi2_contingency(c_t)\n",
    "\n",
    "print('dof=%d' %dof)\n",
    "print(\"p-value\",p)\n",
    "print(expected)\n",
    "\n",
    "\n",
    "if p<0.05:\n",
    "    print(\"dependent. reject null hypothesis\")\n",
    "\n",
    "else:\n",
    "    print(\"independent. accept null hypothesis\")"
   ]
  },
  {
   "cell_type": "code",
   "execution_count": null,
   "id": "f5df6af9",
   "metadata": {},
   "outputs": [],
   "source": [
    "plt.figure(figsize=(20,10))\n",
    "\n",
    "ax = sns.countplot(x=\"education\",hue=\"income\",data=data)\n",
    "plt.show()"
   ]
  },
  {
   "cell_type": "code",
   "execution_count": null,
   "id": "e71ee054",
   "metadata": {},
   "outputs": [],
   "source": []
  },
  {
   "cell_type": "code",
   "execution_count": null,
   "id": "1b0238dc",
   "metadata": {},
   "outputs": [],
   "source": [
    "c_t = pd.crosstab(data['education'].sample(frac=0.004, replace=True, random_state=1),data['income'].sample(frac=0.004,replace= True, random_state = 1),margins=False)\n",
    "c_t"
   ]
  },
  {
   "cell_type": "code",
   "execution_count": null,
   "id": "302c46fc",
   "metadata": {},
   "outputs": [],
   "source": [
    "from scipy.stats import chi2_contingency\n",
    "from scipy.stats import chi2\n",
    "\n",
    "stat, p, dof, expected = chi2_contingency(c_t)\n",
    "\n",
    "print('dof=%d' %dof)\n",
    "print(\"p-value\",p)\n",
    "print(expected)\n",
    "\n",
    "\n",
    "if p<0.05:\n",
    "    print(\"dependent. reject null hypothesis\")\n",
    "\n",
    "else:\n",
    "    print(\"independent. accept null hypothesis\")"
   ]
  },
  {
   "cell_type": "code",
   "execution_count": null,
   "id": "a58ddf12",
   "metadata": {},
   "outputs": [],
   "source": [
    "plt.figure(figsize=(17,10))\n",
    "\n",
    "ax = sns.countplot(x=\"marital-status\",hue=\"income\",data=data)\n",
    "plt.show()"
   ]
  },
  {
   "cell_type": "code",
   "execution_count": null,
   "id": "be6e4e12",
   "metadata": {},
   "outputs": [],
   "source": [
    "c_t = pd.crosstab(data['marital-status'].sample(frac=0.004, replace=True, random_state=1),data['income'].sample(frac=0.004,replace= True, random_state = 1),margins=False)\n",
    "c_t"
   ]
  },
  {
   "cell_type": "code",
   "execution_count": null,
   "id": "2b59bb7d",
   "metadata": {},
   "outputs": [],
   "source": [
    "from scipy.stats import chi2_contingency\n",
    "from scipy.stats import chi2\n",
    "\n",
    "stat, p, dof, expected = chi2_contingency(c_t)\n",
    "\n",
    "print('dof=%d' %dof)\n",
    "print(\"p-value\",p)\n",
    "print(expected)\n",
    "\n",
    "\n",
    "if p<0.05:\n",
    "    print(\"dependent. reject null hypothesis\")\n",
    "\n",
    "else:\n",
    "    print(\"independent. accept null hypothesis\")"
   ]
  },
  {
   "cell_type": "code",
   "execution_count": null,
   "id": "5df534e2",
   "metadata": {
    "scrolled": true
   },
   "outputs": [],
   "source": [
    "plt.figure(figsize=(25,10))\n",
    "ax = sns.countplot(x=\"occupation\",hue=\"income\",data=data)\n",
    "plt.show()"
   ]
  },
  {
   "cell_type": "code",
   "execution_count": null,
   "id": "1badc41a",
   "metadata": {},
   "outputs": [],
   "source": [
    "c_t = pd.crosstab(data['occupation'].sample(frac=0.004, replace=True, random_state=1),data['income'].sample(frac=0.004,replace= True, random_state = 1),margins=False)\n",
    "c_t"
   ]
  },
  {
   "cell_type": "code",
   "execution_count": null,
   "id": "1c1c9983",
   "metadata": {},
   "outputs": [],
   "source": [
    "from scipy.stats import chi2_contingency\n",
    "from scipy.stats import chi2\n",
    "\n",
    "stat, p, dof, expected = chi2_contingency(c_t)\n",
    "\n",
    "print('dof=%d' %dof)\n",
    "print(\"p-value\",p)\n",
    "print(expected)\n",
    "\n",
    "\n",
    "if p<0.05:\n",
    "    print(\"dependent. reject null hypothesis\")\n",
    "\n",
    "else:\n",
    "    print(\"independent. accept null hypothesis\")"
   ]
  },
  {
   "cell_type": "code",
   "execution_count": 14,
   "id": "1603cc04",
   "metadata": {},
   "outputs": [
    {
     "data": {
      "image/png": "[encoded data removed]",
      "text/plain": [
       "<Figure size 1700x1000 with 1 Axes>"
      ]
     },
     "metadata": {},
     "output_type": "display_data"
    }
   ],
   "source": [
    "plt.figure(figsize=(17,10))\n",
    "ax = sns.countplot(x=\"relationship\",hue=\"income\", data=data)\n",
    "\n",
    "plt.show()"
   ]
  },
  {
   "cell_type": "code",
   "execution_count": null,
   "id": "1a9a8396",
   "metadata": {},
   "outputs": [],
   "source": [
    "c_t = pd.crosstab(data['relationship'].sample(frac=0.004, replace=True, random_state=1),data['income'].sample(frac=0.004,replace= True, random_state = 1),margins=False)\n",
    "c_t"
   ]
  },
  {
   "cell_type": "code",
   "execution_count": 16,
   "id": "a1c8436e",
   "metadata": {},
   "outputs": [
    {
     "ename": "NameError",
     "evalue": "name 'c_t' is not defined",
     "output_type": "error",
     "traceback": [
      "\u001b[0;31m---------------------------------------------------------------------------\u001b[0m",
      "\u001b[0;31mNameError\u001b[0m                                 Traceback (most recent call last)",
      "Input \u001b[0;32mIn [16]\u001b[0m, in \u001b[0;36m<cell line: 4>\u001b[0;34m()\u001b[0m\n\u001b[1;32m      1\u001b[0m \u001b[38;5;28;01mfrom\u001b[39;00m \u001b[38;5;21;01mscipy\u001b[39;00m\u001b[38;5;21;01m.\u001b[39;00m\u001b[38;5;21;01mstats\u001b[39;00m \u001b[38;5;28;01mimport\u001b[39;00m chi2_contingency\n\u001b[1;32m      2\u001b[0m \u001b[38;5;28;01mfrom\u001b[39;00m \u001b[38;5;21;01mscipy\u001b[39;00m\u001b[38;5;21;01m.\u001b[39;00m\u001b[38;5;21;01mstats\u001b[39;00m \u001b[38;5;28;01mimport\u001b[39;00m chi2\n\u001b[0;32m----> 4\u001b[0m stat, p, dof, expected \u001b[38;5;241m=\u001b[39m chi2_contingency(\u001b[43mc_t\u001b[49m)\n\u001b[1;32m      6\u001b[0m \u001b[38;5;28mprint\u001b[39m(\u001b[38;5;124m'\u001b[39m\u001b[38;5;124mdof=\u001b[39m\u001b[38;5;132;01m%d\u001b[39;00m\u001b[38;5;124m'\u001b[39m \u001b[38;5;241m%\u001b[39mdof)\n\u001b[1;32m      7\u001b[0m \u001b[38;5;28mprint\u001b[39m(\u001b[38;5;124m\"\u001b[39m\u001b[38;5;124mp-value\u001b[39m\u001b[38;5;124m\"\u001b[39m,p)\n",
      "\u001b[0;31mNameError\u001b[0m: name 'c_t' is not defined"
     ]
    }
   ],
   "source": [
    "from scipy.stats import chi2_contingency\n",
    "from scipy.stats import chi2\n",
    "\n",
    "stat, p, dof, expected = chi2_contingency(c_t)\n",
    "\n",
    "print('dof=%d' %dof)\n",
    "print(\"p-value\",p)\n",
    "print(expected)\n",
    "\n",
    "\n",
    "if p<0.05:\n",
    "    print(\"dependent. reject null hypothesis\")\n",
    "\n",
    "else:\n",
    "    print(\"independent. accept null hypothesis\")"
   ]
  },
  {
   "cell_type": "code",
   "execution_count": 17,
   "id": "7d62a7d3",
   "metadata": {},
   "outputs": [
    {
     "data": {
      "image/png": "[encoded data removed]",
      "text/plain": [
       "<Figure size 1700x1000 with 1 Axes>"
      ]
     },
     "metadata": {},
     "output_type": "display_data"
    }
   ],
   "source": [
    "plt.figure(figsize=(17,10))\n",
    "ax = sns.countplot(x=\"race\",hue=\"income\",data=data)\n",
    "\n",
    "plt.show()"
   ]
  },
  {
   "cell_type": "code",
   "execution_count": 20,
   "id": "96dc456d",
   "metadata": {},
   "outputs": [
    {
     "data": {
      "text/html": [
       "<div>\n",
       "<style scoped>\n",
       "    .dataframe tbody tr th:only-of-type {\n",
       "        vertical-align: middle;\n",
       "    }\n",
       "\n",
       "    .dataframe tbody tr th {\n",
       "        vertical-align: top;\n",
       "    }\n",
       "\n",
       "    .dataframe thead th {\n",
       "        text-align: right;\n",
       "    }\n",
       "</style>\n",
       "<table border=\"1\" class=\"dataframe\">\n",
       "  <thead>\n",
       "    <tr style=\"text-align: right;\">\n",
       "      <th>income</th>\n",
       "      <th>&lt;=50K</th>\n",
       "      <th>&gt;50K</th>\n",
       "    </tr>\n",
       "    <tr>\n",
       "      <th>race</th>\n",
       "      <th></th>\n",
       "      <th></th>\n",
       "    </tr>\n",
       "  </thead>\n",
       "  <tbody>\n",
       "    <tr>\n",
       "      <th>Amer-Indian-Eskimo</th>\n",
       "      <td>2</td>\n",
       "      <td>1</td>\n",
       "    </tr>\n",
       "    <tr>\n",
       "      <th>Asian-Pac-Islander</th>\n",
       "      <td>5</td>\n",
       "      <td>0</td>\n",
       "    </tr>\n",
       "    <tr>\n",
       "      <th>Black</th>\n",
       "      <td>9</td>\n",
       "      <td>1</td>\n",
       "    </tr>\n",
       "    <tr>\n",
       "      <th>Other</th>\n",
       "      <td>1</td>\n",
       "      <td>0</td>\n",
       "    </tr>\n",
       "    <tr>\n",
       "      <th>White</th>\n",
       "      <td>122</td>\n",
       "      <td>54</td>\n",
       "    </tr>\n",
       "  </tbody>\n",
       "</table>\n",
       "</div>"
      ],
      "text/plain": [
       "income              <=50K  >50K\n",
       "race                           \n",
       "Amer-Indian-Eskimo      2     1\n",
       "Asian-Pac-Islander      5     0\n",
       "Black                   9     1\n",
       "Other                   1     0\n",
       "White                 122    54"
      ]
     },
     "execution_count": 20,
     "metadata": {},
     "output_type": "execute_result"
    }
   ],
   "source": [
    "c_t = pd.crosstab(data['race'].sample(frac=0.004, replace=True, random_state=1),data['income'].sample(frac=0.004,replace= True, random_state = 1),margins=False)\n",
    "c_t"
   ]
  },
  {
   "cell_type": "code",
   "execution_count": 21,
   "id": "ec9c6f91",
   "metadata": {},
   "outputs": [
    {
     "name": "stdout",
     "output_type": "stream",
     "text": [
      "dof=4\n",
      "p-value 0.3435446765086313\n",
      "[[  2.13846154   0.86153846]\n",
      " [  3.56410256   1.43589744]\n",
      " [  7.12820513   2.87179487]\n",
      " [  0.71282051   0.28717949]\n",
      " [125.45641026  50.54358974]]\n",
      "independent. accept null hypothesis\n"
     ]
    }
   ],
   "source": [
    "from scipy.stats import chi2_contingency\n",
    "from scipy.stats import chi2\n",
    "\n",
    "stat, p, dof, expected = chi2_contingency(c_t)\n",
    "\n",
    "print('dof=%d' %dof)\n",
    "print(\"p-value\",p)\n",
    "print(expected)\n",
    "\n",
    "\n",
    "if p<0.05:\n",
    "    print(\"dependent. reject null hypothesis\")\n",
    "\n",
    "else:\n",
    "    print(\"independent. accept null hypothesis\")"
   ]
  },
  {
   "cell_type": "code",
   "execution_count": 23,
   "id": "01abbad8",
   "metadata": {},
   "outputs": [
    {
     "data": {
      "image/png": "[encoded data removed]",
      "text/plain": [
       "<Figure size 1000x1000 with 1 Axes>"
      ]
     },
     "metadata": {},
     "output_type": "display_data"
    }
   ],
   "source": [
    "plt.figure(figsize=(10,10))\n",
    "ax=sns.countplot(x=\"gender\",hue=\"income\", data=data)\n",
    "\n",
    "plt.show()"
   ]
  },
  {
   "cell_type": "code",
   "execution_count": 24,
   "id": "495fc61a",
   "metadata": {},
   "outputs": [
    {
     "data": {
      "text/html": [
       "<div>\n",
       "<style scoped>\n",
       "    .dataframe tbody tr th:only-of-type {\n",
       "        vertical-align: middle;\n",
       "    }\n",
       "\n",
       "    .dataframe tbody tr th {\n",
       "        vertical-align: top;\n",
       "    }\n",
       "\n",
       "    .dataframe thead th {\n",
       "        text-align: right;\n",
       "    }\n",
       "</style>\n",
       "<table border=\"1\" class=\"dataframe\">\n",
       "  <thead>\n",
       "    <tr style=\"text-align: right;\">\n",
       "      <th>income</th>\n",
       "      <th>&lt;=50K</th>\n",
       "      <th>&gt;50K</th>\n",
       "    </tr>\n",
       "    <tr>\n",
       "      <th>gender</th>\n",
       "      <th></th>\n",
       "      <th></th>\n",
       "    </tr>\n",
       "  </thead>\n",
       "  <tbody>\n",
       "    <tr>\n",
       "      <th>Female</th>\n",
       "      <td>47</td>\n",
       "      <td>10</td>\n",
       "    </tr>\n",
       "    <tr>\n",
       "      <th>Male</th>\n",
       "      <td>92</td>\n",
       "      <td>46</td>\n",
       "    </tr>\n",
       "  </tbody>\n",
       "</table>\n",
       "</div>"
      ],
      "text/plain": [
       "income  <=50K  >50K\n",
       "gender             \n",
       "Female     47    10\n",
       "Male       92    46"
      ]
     },
     "execution_count": 24,
     "metadata": {},
     "output_type": "execute_result"
    }
   ],
   "source": [
    "c_t = pd.crosstab(data['gender'].sample(frac=0.004, replace=True, random_state=1),data['income'].sample(frac=0.004,replace= True, random_state = 1),margins=False)\n",
    "c_t"
   ]
  },
  {
   "cell_type": "code",
   "execution_count": 25,
   "id": "1a782bc6",
   "metadata": {},
   "outputs": [
    {
     "name": "stdout",
     "output_type": "stream",
     "text": [
      "dof=1\n",
      "p-value 0.041105383583817524\n",
      "[[40.63076923 16.36923077]\n",
      " [98.36923077 39.63076923]]\n",
      "dependent. reject null hypothesis\n"
     ]
    }
   ],
   "source": [
    "from scipy.stats import chi2_contingency\n",
    "from scipy.stats import chi2\n",
    "\n",
    "stat, p, dof, expected = chi2_contingency(c_t)\n",
    "\n",
    "print('dof=%d' %dof)\n",
    "print(\"p-value\",p)\n",
    "print(expected)\n",
    "\n",
    "\n",
    "if p<0.05:\n",
    "    print(\"dependent. reject null hypothesis\")\n",
    "\n",
    "else:\n",
    "    print(\"independent. accept null hypothesis\")"
   ]
  },
  {
   "cell_type": "code",
   "execution_count": 26,
   "id": "260454e8",
   "metadata": {},
   "outputs": [
    {
     "data": {
      "text/html": [
       "<div>\n",
       "<style scoped>\n",
       "    .dataframe tbody tr th:only-of-type {\n",
       "        vertical-align: middle;\n",
       "    }\n",
       "\n",
       "    .dataframe tbody tr th {\n",
       "        vertical-align: top;\n",
       "    }\n",
       "\n",
       "    .dataframe thead th {\n",
       "        text-align: right;\n",
       "    }\n",
       "</style>\n",
       "<table border=\"1\" class=\"dataframe\">\n",
       "  <thead>\n",
       "    <tr style=\"text-align: right;\">\n",
       "      <th>income</th>\n",
       "      <th>&lt;=50K</th>\n",
       "      <th>&gt;50K</th>\n",
       "    </tr>\n",
       "    <tr>\n",
       "      <th>native-country</th>\n",
       "      <th></th>\n",
       "      <th></th>\n",
       "    </tr>\n",
       "  </thead>\n",
       "  <tbody>\n",
       "    <tr>\n",
       "      <th>China</th>\n",
       "      <td>1</td>\n",
       "      <td>0</td>\n",
       "    </tr>\n",
       "    <tr>\n",
       "      <th>Cuba</th>\n",
       "      <td>1</td>\n",
       "      <td>1</td>\n",
       "    </tr>\n",
       "    <tr>\n",
       "      <th>Dominican-Republic</th>\n",
       "      <td>1</td>\n",
       "      <td>0</td>\n",
       "    </tr>\n",
       "    <tr>\n",
       "      <th>Germany</th>\n",
       "      <td>1</td>\n",
       "      <td>0</td>\n",
       "    </tr>\n",
       "    <tr>\n",
       "      <th>India</th>\n",
       "      <td>2</td>\n",
       "      <td>0</td>\n",
       "    </tr>\n",
       "    <tr>\n",
       "      <th>Jamaica</th>\n",
       "      <td>1</td>\n",
       "      <td>0</td>\n",
       "    </tr>\n",
       "    <tr>\n",
       "      <th>Philippines</th>\n",
       "      <td>1</td>\n",
       "      <td>0</td>\n",
       "    </tr>\n",
       "    <tr>\n",
       "      <th>Poland</th>\n",
       "      <td>1</td>\n",
       "      <td>0</td>\n",
       "    </tr>\n",
       "    <tr>\n",
       "      <th>Portugal</th>\n",
       "      <td>1</td>\n",
       "      <td>0</td>\n",
       "    </tr>\n",
       "    <tr>\n",
       "      <th>South</th>\n",
       "      <td>1</td>\n",
       "      <td>0</td>\n",
       "    </tr>\n",
       "    <tr>\n",
       "      <th>United-States</th>\n",
       "      <td>128</td>\n",
       "      <td>55</td>\n",
       "    </tr>\n",
       "  </tbody>\n",
       "</table>\n",
       "</div>"
      ],
      "text/plain": [
       "income              <=50K  >50K\n",
       "native-country                 \n",
       "China                   1     0\n",
       "Cuba                    1     1\n",
       "Dominican-Republic      1     0\n",
       "Germany                 1     0\n",
       "India                   2     0\n",
       "Jamaica                 1     0\n",
       "Philippines             1     0\n",
       "Poland                  1     0\n",
       "Portugal                1     0\n",
       "South                   1     0\n",
       "United-States         128    55"
      ]
     },
     "execution_count": 26,
     "metadata": {},
     "output_type": "execute_result"
    }
   ],
   "source": [
    "#native country\n",
    "\n",
    "c_t = pd.crosstab(data['native-country'].sample(frac=0.004, replace=True, random_state=1),data['income'].sample(frac=0.004,replace= True, random_state = 1),margins=False)\n",
    "c_t"
   ]
  },
  {
   "cell_type": "code",
   "execution_count": 27,
   "id": "3c5ead32",
   "metadata": {},
   "outputs": [
    {
     "name": "stdout",
     "output_type": "stream",
     "text": [
      "dof=10\n",
      "p-value 0.9144259912561064\n",
      "[[  0.71282051   0.28717949]\n",
      " [  1.42564103   0.57435897]\n",
      " [  0.71282051   0.28717949]\n",
      " [  0.71282051   0.28717949]\n",
      " [  1.42564103   0.57435897]\n",
      " [  0.71282051   0.28717949]\n",
      " [  0.71282051   0.28717949]\n",
      " [  0.71282051   0.28717949]\n",
      " [  0.71282051   0.28717949]\n",
      " [  0.71282051   0.28717949]\n",
      " [130.44615385  52.55384615]]\n",
      "independent. accept null hypothesis\n"
     ]
    }
   ],
   "source": [
    "from scipy.stats import chi2_contingency\n",
    "from scipy.stats import chi2\n",
    "\n",
    "stat, p, dof, expected = chi2_contingency(c_t)\n",
    "\n",
    "print('dof=%d' %dof)\n",
    "print(\"p-value\",p)\n",
    "print(expected)\n",
    "\n",
    "\n",
    "if p<0.05:\n",
    "    print(\"dependent. reject null hypothesis\")\n",
    "\n",
    "else:\n",
    "    print(\"independent. accept null hypothesis\")"
   ]
  },
  {
   "cell_type": "code",
   "execution_count": 32,
   "id": "2dd3ef6c",
   "metadata": {},
   "outputs": [
    {
     "data": {
      "image/png": "[encoded data removed]",
      "text/plain": [
       "<Figure size 1000x1000 with 2 Axes>"
      ]
     },
     "metadata": {},
     "output_type": "display_data"
    }
   ],
   "source": [
    "#some multivariate relationships\n",
    "\n",
    "plt.figure(figsize=(10,10))\n",
    "sns.heatmap (data_num.corr(),annot=True, linewidth=.5, cmap=\"Blues\")\n",
    "plt.title(\"Heatmap showing correlation between numerical data\")\n",
    "plt.show()"
   ]
  },
  {
   "cell_type": "code",
   "execution_count": 33,
   "id": "0af460dd",
   "metadata": {},
   "outputs": [
    {
     "data": {
      "image/png": "[encoded data removed]",
      "text/plain": [
       "<Figure size 1200x600 with 1 Axes>"
      ]
     },
     "metadata": {},
     "output_type": "display_data"
    }
   ],
   "source": [
    "plt.figure(figsize=(12,6))\n",
    "sns.boxplot(x=\"income\",y=\"hours-per-week\",hue=\"gender\",data=data)\n",
    "plt.show()"
   ]
  },
  {
   "cell_type": "code",
   "execution_count": 36,
   "id": "b7ce3500",
   "metadata": {},
   "outputs": [
    {
     "data": {
      "image/png": "[encoded data removed]",
      "text/plain": [
       "<Figure size 1200x600 with 1 Axes>"
      ]
     },
     "metadata": {},
     "output_type": "display_data"
    }
   ],
   "source": [
    "plt.figure(figsize=(12,6))\n",
    "sns.boxplot(x=\"income\",y=\"age\",hue=\"gender\",data=data)\n",
    "plt.show()"
   ]
  },
  {
   "cell_type": "code",
   "execution_count": null,
   "id": "ae0cf431",
   "metadata": {},
   "outputs": [],
   "source": []
  }
 ],
 "metadata": {
  "kernelspec": {
   "display_name": "Python 3 (ipykernel)",
   "language": "python",
   "name": "python3"
  },
  "language_info": {
   "codemirror_mode": {
    "name": "ipython",
    "version": 3
   },
   "file_extension": ".py",
   "mimetype": "text/x-python",
   "name": "python",
   "nbconvert_exporter": "python",
   "pygments_lexer": "ipython3",
   "version": "3.9.13"
  }
 },
 "nbformat": 4,
 "nbformat_minor": 5
}
